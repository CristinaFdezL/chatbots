{
 "cells": [
  {
   "cell_type": "markdown",
   "id": "c37cdf47",
   "metadata": {},
   "source": [
    "# Ejecución de chatbot AIML desde Jupyter Notebook"
   ]
  },
  {
   "cell_type": "markdown",
   "id": "f6a30468",
   "metadata": {},
   "source": [
    "Se instala programy, que es una implementación completa del estándar AIML"
   ]
  },
  {
   "cell_type": "code",
   "execution_count": 1,
   "id": "e0ddb1e9",
   "metadata": {},
   "outputs": [
    {
     "name": "stdout",
     "output_type": "stream",
     "text": [
      "Requirement already satisfied: programy in /home/cristal/anaconda3/lib/python3.9/site-packages (5.0.1)\n",
      "Requirement already satisfied: sleekxmpp==1.3.3 in /home/cristal/anaconda3/lib/python3.9/site-packages (from programy) (1.3.3)\n",
      "Requirement already satisfied: line-bot-sdk==1.15.0 in /home/cristal/anaconda3/lib/python3.9/site-packages (from programy) (1.15.0)\n",
      "Requirement already satisfied: botbuilder-schema>=4.5.0b4 in /home/cristal/anaconda3/lib/python3.9/site-packages (from programy) (4.14.1)\n",
      "Requirement already satisfied: SQLAlchemy==1.3.12 in /home/cristal/anaconda3/lib/python3.9/site-packages (from programy) (1.3.12)\n",
      "Requirement already satisfied: python-telegram-bot==12.0.0 in /home/cristal/anaconda3/lib/python3.9/site-packages (from programy) (12.0.0)\n",
      "Requirement already satisfied: requests==2.22.0 in /home/cristal/anaconda3/lib/python3.9/site-packages (from programy) (2.22.0)\n",
      "Requirement already satisfied: redis==3.3.11 in /home/cristal/anaconda3/lib/python3.9/site-packages (from programy) (3.3.11)\n",
      "Requirement already satisfied: autocorrect==0.4.4 in /home/cristal/anaconda3/lib/python3.9/site-packages (from programy) (0.4.4)\n",
      "Requirement already satisfied: textblob==0.15.3 in /home/cristal/anaconda3/lib/python3.9/site-packages (from programy) (0.15.3)\n",
      "Requirement already satisfied: slackclient==1.3.1 in /home/cristal/anaconda3/lib/python3.9/site-packages (from programy) (1.3.1)\n",
      "Requirement already satisfied: emoji==0.5.4 in /home/cristal/anaconda3/lib/python3.9/site-packages (from programy) (0.5.4)\n",
      "Requirement already satisfied: beautifulsoup4==4.8 in /home/cristal/anaconda3/lib/python3.9/site-packages (from programy) (4.8.0)\n",
      "Requirement already satisfied: MetOffer==1.3.2 in /home/cristal/anaconda3/lib/python3.9/site-packages (from programy) (1.3.2)\n",
      "Requirement already satisfied: pymongo==3.10.0 in /home/cristal/anaconda3/lib/python3.9/site-packages (from programy) (3.10.0)\n",
      "Requirement already satisfied: Flask-SocketIO==4.2.1 in /home/cristal/anaconda3/lib/python3.9/site-packages (from programy) (4.2.1)\n",
      "Requirement already satisfied: wget==3.2 in /home/cristal/anaconda3/lib/python3.9/site-packages (from programy) (3.2)\n",
      "Requirement already satisfied: discord.py==1.2.3 in /home/cristal/anaconda3/lib/python3.9/site-packages (from programy) (1.2.3)\n",
      "Requirement already satisfied: wikipedia==1.4.0 in /home/cristal/anaconda3/lib/python3.9/site-packages (from programy) (1.4.0)\n",
      "Requirement already satisfied: pymessenger==0.0.7.0 in /home/cristal/anaconda3/lib/python3.9/site-packages (from programy) (0.0.7.0)\n",
      "Requirement already satisfied: Flask==1.1.1 in /home/cristal/anaconda3/lib/python3.9/site-packages (from programy) (1.1.1)\n",
      "Requirement already satisfied: python-dateutil==2.8.1 in /home/cristal/anaconda3/lib/python3.9/site-packages (from programy) (2.8.1)\n",
      "Requirement already satisfied: lxml==4.6.2 in /home/cristal/anaconda3/lib/python3.9/site-packages (from programy) (4.6.2)\n",
      "Requirement already satisfied: botbuilder-core==4.5.0b4 in /home/cristal/anaconda3/lib/python3.9/site-packages (from programy) (4.5.0b4)\n",
      "Requirement already satisfied: tweepy==3.8.0 in /home/cristal/anaconda3/lib/python3.9/site-packages (from programy) (3.8.0)\n",
      "Requirement already satisfied: kik==1.5.0 in /home/cristal/anaconda3/lib/python3.9/site-packages (from programy) (1.5.0)\n",
      "Requirement already satisfied: PyYAML==5.3b1 in /home/cristal/anaconda3/lib/python3.9/site-packages (from programy) (5.3b1)\n",
      "Requirement already satisfied: APScheduler==3.6.3 in /home/cristal/anaconda3/lib/python3.9/site-packages (from programy) (3.6.3)\n",
      "Requirement already satisfied: viberbot==1.0.11 in /home/cristal/anaconda3/lib/python3.9/site-packages (from programy) (1.0.11)\n",
      "Requirement already satisfied: twilio==6.35.1 in /home/cristal/anaconda3/lib/python3.9/site-packages (from programy) (6.35.1)\n",
      "Requirement already satisfied: PyMySQL==0.9.3 in /home/cristal/anaconda3/lib/python3.9/site-packages (from programy) (0.9.3)\n",
      "Requirement already satisfied: setuptools>=0.7 in /home/cristal/anaconda3/lib/python3.9/site-packages (from APScheduler==3.6.3->programy) (58.0.4)\n",
      "Requirement already satisfied: six>=1.4.0 in /home/cristal/anaconda3/lib/python3.9/site-packages (from APScheduler==3.6.3->programy) (1.10.0)\n",
      "Requirement already satisfied: tzlocal>=1.2 in /home/cristal/anaconda3/lib/python3.9/site-packages (from APScheduler==3.6.3->programy) (4.1)\n",
      "Requirement already satisfied: pytz in /home/cristal/anaconda3/lib/python3.9/site-packages (from APScheduler==3.6.3->programy) (2021.3)\n",
      "Requirement already satisfied: soupsieve>=1.2 in /home/cristal/anaconda3/lib/python3.9/site-packages (from beautifulsoup4==4.8->programy) (2.2.1)\n",
      "Requirement already satisfied: botframework-connector>=4.5.0b4 in /home/cristal/anaconda3/lib/python3.9/site-packages (from botbuilder-core==4.5.0b4->programy) (4.9.3)\n",
      "Requirement already satisfied: aiohttp<3.6.0,>=3.3.0 in /home/cristal/anaconda3/lib/python3.9/site-packages (from discord.py==1.2.3->programy) (3.5.4)\n",
      "Requirement already satisfied: websockets<7.0,>=6.0 in /home/cristal/anaconda3/lib/python3.9/site-packages (from discord.py==1.2.3->programy) (6.0)\n",
      "Requirement already satisfied: Werkzeug>=0.15 in /home/cristal/anaconda3/lib/python3.9/site-packages (from Flask==1.1.1->programy) (2.0.2)\n",
      "Requirement already satisfied: click>=5.1 in /home/cristal/anaconda3/lib/python3.9/site-packages (from Flask==1.1.1->programy) (8.0.3)\n",
      "Requirement already satisfied: Jinja2>=2.10.1 in /home/cristal/anaconda3/lib/python3.9/site-packages (from Flask==1.1.1->programy) (2.11.3)\n",
      "Requirement already satisfied: itsdangerous>=0.24 in /home/cristal/anaconda3/lib/python3.9/site-packages (from Flask==1.1.1->programy) (2.0.1)\n",
      "Requirement already satisfied: python-socketio>=4.3.0 in /home/cristal/anaconda3/lib/python3.9/site-packages (from Flask-SocketIO==4.2.1->programy) (5.5.0)\n",
      "Requirement already satisfied: future in /home/cristal/anaconda3/lib/python3.9/site-packages (from line-bot-sdk==1.15.0->programy) (0.18.2)\n",
      "Requirement already satisfied: requests-toolbelt in /home/cristal/anaconda3/lib/python3.9/site-packages (from pymessenger==0.0.7.0->programy) (0.9.1)\n",
      "Requirement already satisfied: tornado>=5.1 in /home/cristal/anaconda3/lib/python3.9/site-packages (from python-telegram-bot==12.0.0->programy) (6.1)\n",
      "Requirement already satisfied: certifi in /home/cristal/anaconda3/lib/python3.9/site-packages (from python-telegram-bot==12.0.0->programy) (2021.10.8)\n",
      "Requirement already satisfied: cryptography in /home/cristal/anaconda3/lib/python3.9/site-packages (from python-telegram-bot==12.0.0->programy) (2.8)\n",
      "Requirement already satisfied: chardet<3.1.0,>=3.0.2 in /home/cristal/anaconda3/lib/python3.9/site-packages (from requests==2.22.0->programy) (3.0.4)\n",
      "Requirement already satisfied: idna<2.9,>=2.5 in /home/cristal/anaconda3/lib/python3.9/site-packages (from requests==2.22.0->programy) (2.8)\n",
      "Requirement already satisfied: urllib3!=1.25.0,!=1.25.1,<1.26,>=1.21.1 in /home/cristal/anaconda3/lib/python3.9/site-packages (from requests==2.22.0->programy) (1.25.11)\n",
      "Requirement already satisfied: websocket-client<0.55.0,>=0.35 in /home/cristal/anaconda3/lib/python3.9/site-packages (from slackclient==1.3.1->programy) (0.54.0)\n",
      "Requirement already satisfied: nltk>=3.1 in /home/cristal/anaconda3/lib/python3.9/site-packages (from textblob==0.15.3->programy) (3.6.5)\n",
      "Requirement already satisfied: PySocks>=1.5.7 in /home/cristal/anaconda3/lib/python3.9/site-packages (from tweepy==3.8.0->programy) (1.7.1)\n",
      "Requirement already satisfied: requests-oauthlib>=0.7.0 in /home/cristal/anaconda3/lib/python3.9/site-packages (from tweepy==3.8.0->programy) (1.3.0)\n",
      "Requirement already satisfied: PyJWT>=1.4.2 in /home/cristal/anaconda3/lib/python3.9/site-packages (from twilio==6.35.1->programy) (1.5.3)\n",
      "Requirement already satisfied: yarl<2.0,>=1.0 in /home/cristal/anaconda3/lib/python3.9/site-packages (from aiohttp<3.6.0,>=3.3.0->discord.py==1.2.3->programy) (1.7.2)\n",
      "Requirement already satisfied: attrs>=17.3.0 in /home/cristal/anaconda3/lib/python3.9/site-packages (from aiohttp<3.6.0,>=3.3.0->discord.py==1.2.3->programy) (21.2.0)\n",
      "Requirement already satisfied: multidict<5.0,>=4.0 in /home/cristal/anaconda3/lib/python3.9/site-packages (from aiohttp<3.6.0,>=3.3.0->discord.py==1.2.3->programy) (4.7.6)\n",
      "Requirement already satisfied: async-timeout<4.0,>=3.0 in /home/cristal/anaconda3/lib/python3.9/site-packages (from aiohttp<3.6.0,>=3.3.0->discord.py==1.2.3->programy) (3.0.1)\n"
     ]
    },
    {
     "name": "stdout",
     "output_type": "stream",
     "text": [
      "Requirement already satisfied: msrest==0.6.10 in /home/cristal/anaconda3/lib/python3.9/site-packages (from botbuilder-schema>=4.5.0b4->programy) (0.6.10)\n",
      "Requirement already satisfied: isodate>=0.6.0 in /home/cristal/anaconda3/lib/python3.9/site-packages (from msrest==0.6.10->botbuilder-schema>=4.5.0b4->programy) (0.6.1)\n",
      "Requirement already satisfied: msal==1.2.0 in /home/cristal/anaconda3/lib/python3.9/site-packages (from botframework-connector>=4.5.0b4->botbuilder-core==4.5.0b4->programy) (1.2.0)\n",
      "Requirement already satisfied: adal==1.2.1 in /home/cristal/anaconda3/lib/python3.9/site-packages (from botframework-connector>=4.5.0b4->botbuilder-core==4.5.0b4->programy) (1.2.1)\n",
      "Requirement already satisfied: cffi!=1.11.3,>=1.8 in /home/cristal/anaconda3/lib/python3.9/site-packages (from cryptography->python-telegram-bot==12.0.0->programy) (1.14.6)\n",
      "Requirement already satisfied: pycparser in /home/cristal/anaconda3/lib/python3.9/site-packages (from cffi!=1.11.3,>=1.8->cryptography->python-telegram-bot==12.0.0->programy) (2.20)\n",
      "Requirement already satisfied: MarkupSafe>=0.23 in /home/cristal/anaconda3/lib/python3.9/site-packages (from Jinja2>=2.10.1->Flask==1.1.1->programy) (1.1.1)\n",
      "Requirement already satisfied: joblib in /home/cristal/anaconda3/lib/python3.9/site-packages (from nltk>=3.1->textblob==0.15.3->programy) (1.1.0)\n",
      "Requirement already satisfied: regex>=2021.8.3 in /home/cristal/anaconda3/lib/python3.9/site-packages (from nltk>=3.1->textblob==0.15.3->programy) (2021.8.3)\n",
      "Requirement already satisfied: tqdm in /home/cristal/anaconda3/lib/python3.9/site-packages (from nltk>=3.1->textblob==0.15.3->programy) (4.62.3)\n",
      "Requirement already satisfied: bidict>=0.21.0 in /home/cristal/anaconda3/lib/python3.9/site-packages (from python-socketio>=4.3.0->Flask-SocketIO==4.2.1->programy) (0.21.4)\n",
      "Requirement already satisfied: python-engineio>=4.3.0 in /home/cristal/anaconda3/lib/python3.9/site-packages (from python-socketio>=4.3.0->Flask-SocketIO==4.2.1->programy) (4.3.0)\n",
      "Requirement already satisfied: oauthlib>=3.0.0 in /home/cristal/anaconda3/lib/python3.9/site-packages (from requests-oauthlib>=0.7.0->tweepy==3.8.0->programy) (3.1.1)\n",
      "Requirement already satisfied: pytz-deprecation-shim in /home/cristal/anaconda3/lib/python3.9/site-packages (from tzlocal>=1.2->APScheduler==3.6.3->programy) (0.1.0.post0)\n",
      "Requirement already satisfied: tzdata in /home/cristal/anaconda3/lib/python3.9/site-packages (from pytz-deprecation-shim->tzlocal>=1.2->APScheduler==3.6.3->programy) (2021.5)\n",
      "Note: you may need to restart the kernel to use updated packages.\n"
     ]
    }
   ],
   "source": [
    "%pip install programy"
   ]
  },
  {
   "cell_type": "markdown",
   "id": "ab252137",
   "metadata": {},
   "source": [
    "Utilizaremos EmbeddedDataFileBot, un bot que permite cargar la base de conocimiento desde archivos AIML externos"
   ]
  },
  {
   "cell_type": "code",
   "execution_count": 1,
   "id": "53dd6c6a",
   "metadata": {},
   "outputs": [],
   "source": [
    "from programy.clients.embed.datafile import EmbeddedDataFileBot"
   ]
  },
  {
   "cell_type": "markdown",
   "id": "bc2387c3",
   "metadata": {},
   "source": [
    "En el argumento 'files' del constructor se indica el nombre del directorio donde están los archivos con extensión .aiml que va a cargar"
   ]
  },
  {
   "cell_type": "code",
   "execution_count": 2,
   "id": "5c9f94fc",
   "metadata": {},
   "outputs": [],
   "source": [
    "chatbot = EmbeddedDataFileBot(files={'aiml':['archivos_aiml']}, defaults=True)"
   ]
  },
  {
   "cell_type": "markdown",
   "id": "64110940",
   "metadata": {},
   "source": [
    "Generamos un bucle infinito que va imprimiendo las respuestas que devuelve nuestro bot a los mensajes que el usuario escriba por la entrada estándar"
   ]
  },
  {
   "cell_type": "code",
   "execution_count": null,
   "id": "444b0d90",
   "metadata": {},
   "outputs": [
    {
     "name": "stdout",
     "output_type": "stream",
     "text": [
      ">Hola\n",
      "Bienvenido/a, con que empresa está relacionada su cita? (EMASESA, EMVISESA,\n",
      "LIPASAM O TUSSAM).\n",
      ">Con la empresa TUSSAM\n",
      "Perfecto, indiquenos el día de la semana de lunes a viernes que desea su cita\n",
      "con TUSSAM.\n",
      ">El lunes\n",
      "Prefiere horario de mañana o de tarde.\n",
      ">Horario de mañana\n",
      "Perfecto, quedamos pendiente de su visita en las instalaciones de TUSSAM el\n",
      "lunes en horario de mañana. Un saludo.\n"
     ]
    }
   ],
   "source": [
    "import requests\n",
    "    \n",
    "try:\n",
    "    while True:\n",
    "        print (chatbot.ask_question(input('>')))\n",
    "except:\n",
    "    pass\n",
    "        \n"
   ]
  },
  {
   "cell_type": "code",
   "execution_count": null,
   "id": "328f485c",
   "metadata": {},
   "outputs": [],
   "source": []
  },
  {
   "cell_type": "code",
   "execution_count": null,
   "id": "b78fc692",
   "metadata": {},
   "outputs": [],
   "source": []
  }
 ],
 "metadata": {
  "kernelspec": {
   "display_name": "Python 3 (ipykernel)",
   "language": "python",
   "name": "python3"
  },
  "language_info": {
   "codemirror_mode": {
    "name": "ipython",
    "version": 3
   },
   "file_extension": ".py",
   "mimetype": "text/x-python",
   "name": "python",
   "nbconvert_exporter": "python",
   "pygments_lexer": "ipython3",
   "version": "3.9.7"
  }
 },
 "nbformat": 4,
 "nbformat_minor": 5
}
